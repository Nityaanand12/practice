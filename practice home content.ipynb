{
 "cells": [
  {
   "cell_type": "code",
   "execution_count": 30,
   "metadata": {},
   "outputs": [
    {
     "data": {
      "text/plain": [
       "21"
      ]
     },
     "execution_count": 30,
     "metadata": {},
     "output_type": "execute_result"
    }
   ],
   "source": [
    "s =\"printing the new line\"\n",
    "len(s)"
   ]
  },
  {
   "cell_type": "code",
   "execution_count": 47,
   "metadata": {},
   "outputs": [
    {
     "data": {
      "text/plain": [
       "'printing the new line'"
      ]
     },
     "execution_count": 47,
     "metadata": {},
     "output_type": "execute_result"
    }
   ],
   "source": [
    "s[::]"
   ]
  },
  {
   "cell_type": "code",
   "execution_count": 48,
   "metadata": {},
   "outputs": [
    {
     "data": {
      "text/plain": [
       "'Printing the new line'"
      ]
     },
     "execution_count": 48,
     "metadata": {},
     "output_type": "execute_result"
    }
   ],
   "source": [
    "s.capitalize()"
   ]
  },
  {
   "cell_type": "code",
   "execution_count": 52,
   "metadata": {},
   "outputs": [],
   "source": [
    "s = \"Pin to pin ACN నమస్కారం\""
   ]
  },
  {
   "cell_type": "code",
   "execution_count": 53,
   "metadata": {},
   "outputs": [
    {
     "data": {
      "text/plain": [
       "'Pin to pin acn నమస్కారం'"
      ]
     },
     "execution_count": 53,
     "metadata": {},
     "output_type": "execute_result"
    }
   ],
   "source": [
    "s.capitalize()"
   ]
  },
  {
   "cell_type": "code",
   "execution_count": 71,
   "metadata": {},
   "outputs": [
    {
     "name": "stdout",
     "output_type": "stream",
     "text": [
      "please enter the wordనమస్కారం\n"
     ]
    }
   ],
   "source": [
    "s = str(input(\"please enter the word\"))"
   ]
  },
  {
   "cell_type": "code",
   "execution_count": 72,
   "metadata": {},
   "outputs": [
    {
     "data": {
      "text/plain": [
       "'నమస్కారం'"
      ]
     },
     "execution_count": 72,
     "metadata": {},
     "output_type": "execute_result"
    }
   ],
   "source": [
    "s"
   ]
  },
  {
   "cell_type": "code",
   "execution_count": 59,
   "metadata": {},
   "outputs": [
    {
     "data": {
      "text/plain": [
       "b'\\xe0\\xb0\\xa8\\xe0\\xb0\\xae\\xe0\\xb0\\xb8\\xe0\\xb1\\x8d\\xe0\\xb0\\x95\\xe0\\xb0\\xbe\\xe0\\xb0\\xb0\\xe0\\xb0\\x82'"
      ]
     },
     "execution_count": 59,
     "metadata": {},
     "output_type": "execute_result"
    }
   ],
   "source": [
    "s.encode(\"utf-8\")"
   ]
  },
  {
   "cell_type": "code",
   "execution_count": 81,
   "metadata": {},
   "outputs": [
    {
     "name": "stdout",
     "output_type": "stream",
     "text": [
      "b'\\\\u0c28\\\\u0c2e\\\\u0c38\\\\u0c4d\\\\u0c15\\\\u0c3e\\\\u0c30\\\\u0c02'\n",
      "b''\n",
      "b'????????'\n",
      "b'\\xe0\\xb0\\xa8\\xe0\\xb0\\xae\\xe0\\xb0\\xb8\\xe0\\xb1\\x8d\\xe0\\xb0\\x95\\xe0\\xb0\\xbe\\xe0\\xb0\\xb0\\xe0\\xb0\\x82'\n",
      "b'&#3112;&#3118;&#3128;&#3149;&#3093;&#3134;&#3120;&#3074;'\n",
      "b'\\\\N{TELUGU LETTER NA}\\\\N{TELUGU LETTER MA}\\\\N{TELUGU LETTER SA}\\\\N{TELUGU SIGN VIRAMA}\\\\N{TELUGU LETTER KA}\\\\N{TELUGU VOWEL SIGN AA}\\\\N{TELUGU LETTER RA}\\\\N{TELUGU SIGN ANUSVARA}'\n"
     ]
    }
   ],
   "source": [
    "print(s.encode(encoding=\"ascii\",errors='backslashreplace'))\n",
    "print(s.encode(encoding=\"ascii\",errors='ignore'))\n",
    "print(s.encode(encoding=\"ascii\",errors='replace'))\n",
    "print(s.encode(encoding=\"UTF-8\",errors='replace'))\n",
    "print(s.encode(encoding=\"ascii\",errors='xmlcharrefreplace'))\n",
    "print(s.encode(encoding=\"ascii\",errors='namereplace'))"
   ]
  },
  {
   "cell_type": "code",
   "execution_count": 84,
   "metadata": {},
   "outputs": [
    {
     "name": "stdout",
     "output_type": "stream",
     "text": [
      "b'\\ye0\\yb0\\ya8\\ye0\\yb0\\yae\\ye0\\yb0\\yb8\\ye0\\yb1\\y8d\\ye0\\yb0\\y95\\ye0\\yb0\\ybe\\ye0\\yb0\\yb0\\ye0\\yb0\\y82'\n"
     ]
    }
   ],
   "source": [
    "l =s.encode(encoding=\"UTF-8\",errors='strict')\n",
    "print(str(l).replace('x','y'))"
   ]
  },
  {
   "cell_type": "code",
   "execution_count": 92,
   "metadata": {},
   "outputs": [
    {
     "name": "stdout",
     "output_type": "stream",
     "text": [
      "python                                                  program\n"
     ]
    }
   ],
   "source": [
    "s=\"python\\tprogram\"\n",
    "print(s.expandtabs(tabsize=56))"
   ]
  },
  {
   "cell_type": "code",
   "execution_count": 99,
   "metadata": {},
   "outputs": [
    {
     "name": "stdout",
     "output_type": "stream",
     "text": [
      "applecarrot\n"
     ]
    }
   ],
   "source": [
    "s = {'fruit':'apple','vegetable':'carrot'}\n",
    "print(\"{fruit}{vegetable}\".format(**s))"
   ]
  },
  {
   "cell_type": "code",
   "execution_count": 102,
   "metadata": {},
   "outputs": [
    {
     "name": "stdout",
     "output_type": "stream",
     "text": [
      "apple orange banana\n"
     ]
    }
   ],
   "source": [
    "fruitlist = {'fruit1':'apple','fruit2':'orange','fruit3':'banana'}\n",
    "print(\"{fruit1} {fruit2} {fruit3}\".format(**fruitlist))"
   ]
  },
  {
   "cell_type": "code",
   "execution_count": 104,
   "metadata": {},
   "outputs": [
    {
     "name": "stdout",
     "output_type": "stream",
     "text": [
      "apple orange banana\n"
     ]
    }
   ],
   "source": [
    "fruitlist = {'fruit1':'apple','fruit2':'orange','fruit3':'banana'}\n",
    "print(\"{fruit1} {fruit2} {fruit3}\".format_map(fruitlist))"
   ]
  },
  {
   "cell_type": "code",
   "execution_count": 105,
   "metadata": {},
   "outputs": [],
   "source": [
    "s=\"python\\tprogram\""
   ]
  },
  {
   "cell_type": "code",
   "execution_count": 118,
   "metadata": {},
   "outputs": [
    {
     "data": {
      "text/plain": [
       "True"
      ]
     },
     "execution_count": 118,
     "metadata": {},
     "output_type": "execute_result"
    }
   ],
   "source": [
    "'None'.isidentifier() # if it is identifier it gives True"
   ]
  },
  {
   "cell_type": "code",
   "execution_count": 121,
   "metadata": {},
   "outputs": [
    {
     "data": {
      "text/plain": [
       "False"
      ]
     },
     "execution_count": 121,
     "metadata": {},
     "output_type": "execute_result"
    }
   ],
   "source": [
    "s.isprintable() #contains non printable item (\\n)"
   ]
  },
  {
   "cell_type": "code",
   "execution_count": 122,
   "metadata": {},
   "outputs": [
    {
     "data": {
      "text/plain": [
       "True"
      ]
     },
     "execution_count": 122,
     "metadata": {},
     "output_type": "execute_result"
    }
   ],
   "source": [
    "''.isprintable()"
   ]
  },
  {
   "cell_type": "code",
   "execution_count": 123,
   "metadata": {},
   "outputs": [
    {
     "data": {
      "text/plain": [
       "True"
      ]
     },
     "execution_count": 123,
     "metadata": {},
     "output_type": "execute_result"
    }
   ],
   "source": [
    "p = \"Python Is Helpful\"\n",
    "p.istitle()"
   ]
  },
  {
   "cell_type": "code",
   "execution_count": 125,
   "metadata": {},
   "outputs": [
    {
     "data": {
      "text/plain": [
       "True"
      ]
     },
     "execution_count": 125,
     "metadata": {},
     "output_type": "execute_result"
    }
   ],
   "source": [
    "p = \"99 Python Is @ Helpful\"\n",
    "p.istitle()"
   ]
  },
  {
   "cell_type": "code",
   "execution_count": 127,
   "metadata": {},
   "outputs": [
    {
     "data": {
      "text/plain": [
       "'h99 Python Is @ Helpfula99 Python Is @ Helpfulp99 Python Is @ Helpfulp99 Python Is @ Helpfuly'"
      ]
     },
     "execution_count": 127,
     "metadata": {},
     "output_type": "execute_result"
    }
   ],
   "source": [
    "p.join('happy')"
   ]
  },
  {
   "cell_type": "code",
   "execution_count": 130,
   "metadata": {},
   "outputs": [
    {
     "data": {
      "text/plain": [
       "'a99 Python Is @ Helpfulb99 Python Is @ Helpfulc'"
      ]
     },
     "execution_count": 130,
     "metadata": {},
     "output_type": "execute_result"
    }
   ],
   "source": [
    "p.join('abc')"
   ]
  },
  {
   "cell_type": "code",
   "execution_count": 133,
   "metadata": {},
   "outputs": [
    {
     "data": {
      "text/plain": [
       "'99 Python Is @ Helpful'"
      ]
     },
     "execution_count": 133,
     "metadata": {},
     "output_type": "execute_result"
    }
   ],
   "source": [
    "p.rjust(1,'$')"
   ]
  },
  {
   "cell_type": "code",
   "execution_count": 138,
   "metadata": {},
   "outputs": [
    {
     "data": {
      "text/plain": [
       "'99 Python Is @ Helpfu'"
      ]
     },
     "execution_count": 138,
     "metadata": {},
     "output_type": "execute_result"
    }
   ],
   "source": [
    "p.rstrip('l')"
   ]
  },
  {
   "cell_type": "code",
   "execution_count": 139,
   "metadata": {},
   "outputs": [],
   "source": [
    "table = p.maketrans('abc','$#%')"
   ]
  },
  {
   "cell_type": "code",
   "execution_count": 140,
   "metadata": {},
   "outputs": [
    {
     "data": {
      "text/plain": [
       "'z$$n12Cwoe%$dhld%n$#jlfn'"
      ]
     },
     "execution_count": 140,
     "metadata": {},
     "output_type": "execute_result"
    }
   ],
   "source": [
    "s1 = \"zaan12Cwoecadhldcnabjlfn\"\n",
    "s1.translate(table)"
   ]
  },
  {
   "cell_type": "code",
   "execution_count": 141,
   "metadata": {},
   "outputs": [],
   "source": [
    "s1.partition??"
   ]
  },
  {
   "cell_type": "code",
   "execution_count": 147,
   "metadata": {},
   "outputs": [],
   "source": [
    "s1= \"zaan12Cwoezcadhldcnazbjlfzn\""
   ]
  },
  {
   "cell_type": "code",
   "execution_count": 149,
   "metadata": {},
   "outputs": [
    {
     "data": {
      "text/plain": [
       "('', 'z', 'aan12Cwoezcadhldcnazbjlfzn')"
      ]
     },
     "execution_count": 149,
     "metadata": {},
     "output_type": "execute_result"
    }
   ],
   "source": [
    "s1.partition('z')"
   ]
  },
  {
   "cell_type": "code",
   "execution_count": 151,
   "metadata": {},
   "outputs": [
    {
     "data": {
      "text/plain": [
       "'$$aan12Cwoe$$cadhldcnazbjlfzn'"
      ]
     },
     "execution_count": 151,
     "metadata": {},
     "output_type": "execute_result"
    }
   ],
   "source": [
    "s1.replace('z','$$',2)"
   ]
  },
  {
   "cell_type": "code",
   "execution_count": 158,
   "metadata": {},
   "outputs": [
    {
     "data": {
      "text/plain": [
       "0"
      ]
     },
     "execution_count": 158,
     "metadata": {},
     "output_type": "execute_result"
    }
   ],
   "source": [
    "s1.rfind('z') #highest no of index will get by rfind and find only give first occurance of string"
   ]
  },
  {
   "cell_type": "code",
   "execution_count": 160,
   "metadata": {},
   "outputs": [
    {
     "data": {
      "text/plain": [
       "('zaan12Cwoezcadhldcnazbjlf', 'z', 'n')"
      ]
     },
     "execution_count": 160,
     "metadata": {},
     "output_type": "execute_result"
    }
   ],
   "source": [
    "s1.rpartition('z')"
   ]
  },
  {
   "cell_type": "code",
   "execution_count": 165,
   "metadata": {},
   "outputs": [
    {
     "data": {
      "text/plain": [
       "['', 'aan12Cwoe', 'cadhldcna', 'bjlfzn']"
      ]
     },
     "execution_count": 165,
     "metadata": {},
     "output_type": "execute_result"
    }
   ],
   "source": [
    "s1.split('z',3)"
   ]
  },
  {
   "cell_type": "markdown",
   "metadata": {},
   "source": [
    " s1.rsplit('z')"
   ]
  },
  {
   "cell_type": "code",
   "execution_count": 169,
   "metadata": {},
   "outputs": [],
   "source": [
    "s1 = 'zaan12Cwoezcadh\\rldcn\\nazbjlfzn'"
   ]
  },
  {
   "cell_type": "code",
   "execution_count": 172,
   "metadata": {},
   "outputs": [
    {
     "data": {
      "text/plain": [
       "['zaan12Cwoezcadh', 'ldcn', 'azbjlfzn']"
      ]
     },
     "execution_count": 172,
     "metadata": {},
     "output_type": "execute_result"
    }
   ],
   "source": [
    "s1.splitlines()"
   ]
  },
  {
   "cell_type": "code",
   "execution_count": 173,
   "metadata": {},
   "outputs": [],
   "source": [
    "s1 = 'zaan12Cwoezcadhldcnazbjlfzn'"
   ]
  },
  {
   "cell_type": "code",
   "execution_count": 174,
   "metadata": {},
   "outputs": [
    {
     "data": {
      "text/plain": [
       "['zaan12Cwoezcadhldcnazbjlfzn']"
      ]
     },
     "execution_count": 174,
     "metadata": {},
     "output_type": "execute_result"
    }
   ],
   "source": [
    "s1.splitlines()"
   ]
  },
  {
   "cell_type": "code",
   "execution_count": 180,
   "metadata": {},
   "outputs": [
    {
     "data": {
      "text/plain": [
       "'0000000000000000000000000000000000000000zaan12Cwoezcadhldcnazbjlfzn'"
      ]
     },
     "execution_count": 180,
     "metadata": {},
     "output_type": "execute_result"
    }
   ],
   "source": [
    "s1.zfill(67)"
   ]
  },
  {
   "cell_type": "code",
   "execution_count": 181,
   "metadata": {},
   "outputs": [
    {
     "name": "stdout",
     "output_type": "stream",
     "text": [
      "-000000000000000000000000000000000000000000000text\n",
      "+00000000000000000000000000000000000000000tex-text\n",
      "-00000000000000000000000000000000000000000000-rest\n"
     ]
    }
   ],
   "source": [
    "s1 ='-text'\n",
    "s2='+tex-text'\n",
    "s3='--rest'\n",
    "print(s1.zfill(50))\n",
    "print(s2.zfill(50))\n",
    "print(s3.zfill(50))\n",
    "#only considers first sign - or +"
   ]
  },
  {
   "cell_type": "code",
   "execution_count": null,
   "metadata": {},
   "outputs": [],
   "source": []
  }
 ],
 "metadata": {
  "kernelspec": {
   "display_name": "Python 3",
   "language": "python",
   "name": "python3"
  },
  "language_info": {
   "codemirror_mode": {
    "name": "ipython",
    "version": 3
   },
   "file_extension": ".py",
   "mimetype": "text/x-python",
   "name": "python",
   "nbconvert_exporter": "python",
   "pygments_lexer": "ipython3",
   "version": "3.6.4"
  }
 },
 "nbformat": 4,
 "nbformat_minor": 2
}
