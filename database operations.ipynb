{
 "cells": [
  {
   "cell_type": "code",
   "execution_count": 1,
   "metadata": {},
   "outputs": [],
   "source": [
    "import sqlite3"
   ]
  },
  {
   "cell_type": "code",
   "execution_count": null,
   "metadata": {},
   "outputs": [],
   "source": []
  },
  {
   "cell_type": "code",
   "execution_count": 5,
   "metadata": {},
   "outputs": [],
   "source": [
    "con = sqlite3.connect(\"db1.sqlite3\")"
   ]
  },
  {
   "cell_type": "code",
   "execution_count": 6,
   "metadata": {},
   "outputs": [],
   "source": [
    "cur = con.cursor()"
   ]
  },
  {
   "cell_type": "code",
   "execution_count": 7,
   "metadata": {},
   "outputs": [],
   "source": [
    "q=\"create table customer(id int,name varchar(250))\""
   ]
  },
  {
   "cell_type": "code",
   "execution_count": 8,
   "metadata": {},
   "outputs": [
    {
     "data": {
      "text/plain": [
       "<sqlite3.Cursor at 0x10f7a9500>"
      ]
     },
     "execution_count": 8,
     "metadata": {},
     "output_type": "execute_result"
    }
   ],
   "source": [
    "cur.execute(q)"
   ]
  },
  {
   "cell_type": "code",
   "execution_count": 9,
   "metadata": {},
   "outputs": [],
   "source": [
    "q=\"insert into customer(id,name) values(1,'Jay')\""
   ]
  },
  {
   "cell_type": "code",
   "execution_count": 10,
   "metadata": {},
   "outputs": [
    {
     "data": {
      "text/plain": [
       "<sqlite3.Cursor at 0x10f7a9500>"
      ]
     },
     "execution_count": 10,
     "metadata": {},
     "output_type": "execute_result"
    }
   ],
   "source": [
    "cur.execute(q)"
   ]
  },
  {
   "cell_type": "code",
   "execution_count": 11,
   "metadata": {},
   "outputs": [],
   "source": [
    "con.commit()"
   ]
  },
  {
   "cell_type": "code",
   "execution_count": 12,
   "metadata": {},
   "outputs": [],
   "source": [
    "c_id ='2'\n",
    "c_name='ram'"
   ]
  },
  {
   "cell_type": "code",
   "execution_count": 13,
   "metadata": {},
   "outputs": [],
   "source": [
    "q=\"insert into customer(id,name) values(%s,'%s')\" %(c_id,c_name)"
   ]
  },
  {
   "cell_type": "code",
   "execution_count": 14,
   "metadata": {},
   "outputs": [
    {
     "data": {
      "text/plain": [
       "<sqlite3.Cursor at 0x10f7a9500>"
      ]
     },
     "execution_count": 14,
     "metadata": {},
     "output_type": "execute_result"
    }
   ],
   "source": [
    "cur.execute(q)"
   ]
  },
  {
   "cell_type": "code",
   "execution_count": 15,
   "metadata": {},
   "outputs": [],
   "source": [
    "con.commit()"
   ]
  },
  {
   "cell_type": "code",
   "execution_count": 16,
   "metadata": {},
   "outputs": [],
   "source": [
    "from random import randint,choice"
   ]
  },
  {
   "cell_type": "code",
   "execution_count": 20,
   "metadata": {},
   "outputs": [],
   "source": [
    "names = ['samba','munna','aneel','sandeep','nithin']\n",
    "for i in range(3,1000):\n",
    "    q = \"insert into customer(id,name) values(%s,'%s')\" %(i, choice(names))\n",
    "    cur.execute(q)\n",
    "con.commit()"
   ]
  },
  {
   "cell_type": "code",
   "execution_count": 21,
   "metadata": {},
   "outputs": [
    {
     "data": {
      "text/plain": [
       "<sqlite3.Cursor at 0x10f7a9500>"
      ]
     },
     "execution_count": 21,
     "metadata": {},
     "output_type": "execute_result"
    }
   ],
   "source": [
    "q=\"select * from customer\"\n",
    "cur.execute(q)"
   ]
  },
  {
   "cell_type": "code",
   "execution_count": 22,
   "metadata": {},
   "outputs": [
    {
     "name": "stdout",
     "output_type": "stream",
     "text": [
      "[(1, 'Jay'), (2, 'ram'), (3, 'sandeep'), (4, 'samba'), (5, 'samba'), (6, 'nithin'), (7, 'sandeep'), (8, 'munna'), (9, 'nithin'), (10, 'sandeep'), (11, 'sandeep'), (12, 'nithin'), (13, 'sandeep'), (14, 'aneel'), (15, 'nithin'), (16, 'munna'), (17, 'nithin'), (18, 'samba'), (19, 'samba'), (20, 'nithin'), (21, 'munna'), (22, 'samba'), (23, 'nithin'), (24, 'sandeep'), (25, 'samba'), (26, 'samba'), (27, 'munna'), (28, 'nithin'), (29, 'samba'), (30, 'munna'), (31, 'samba'), (32, 'munna'), (33, 'sandeep'), (34, 'nithin'), (35, 'nithin'), (36, 'aneel'), (37, 'sandeep'), (38, 'sandeep'), (39, 'samba'), (40, 'nithin'), (41, 'sandeep'), (42, 'nithin'), (43, 'nithin'), (44, 'samba'), (45, 'aneel'), (46, 'samba'), (47, 'munna'), (48, 'aneel'), (49, 'sandeep'), (50, 'nithin'), (51, 'munna'), (52, 'aneel'), (53, 'munna'), (54, 'aneel'), (55, 'aneel'), (56, 'nithin'), (57, 'samba'), (58, 'nithin'), (59, 'nithin'), (60, 'nithin'), (61, 'samba'), (62, 'aneel'), (63, 'aneel'), (64, 'samba'), (65, 'munna'), (66, 'aneel'), (67, 'nithin'), (68, 'nithin'), (69, 'sandeep'), (70, 'sandeep'), (71, 'munna'), (72, 'nithin'), (73, 'munna'), (74, 'nithin'), (75, 'aneel'), (76, 'munna'), (77, 'nithin'), (78, 'sandeep'), (79, 'munna'), (80, 'sandeep'), (81, 'munna'), (82, 'munna'), (83, 'samba'), (84, 'munna'), (85, 'nithin'), (86, 'samba'), (87, 'aneel'), (88, 'munna'), (89, 'aneel'), (90, 'samba'), (91, 'munna'), (92, 'munna'), (93, 'sandeep'), (94, 'munna'), (95, 'sandeep'), (96, 'aneel'), (97, 'nithin'), (98, 'samba'), (99, 'munna'), (100, 'aneel'), (101, 'aneel'), (102, 'sandeep'), (103, 'munna'), (104, 'nithin'), (105, 'sandeep'), (106, 'samba'), (107, 'nithin'), (108, 'nithin'), (109, 'samba'), (110, 'samba'), (111, 'sandeep'), (112, 'aneel'), (113, 'aneel'), (114, 'sandeep'), (115, 'sandeep'), (116, 'samba'), (117, 'samba'), (118, 'sandeep'), (119, 'munna'), (120, 'aneel'), (121, 'sandeep'), (122, 'sandeep'), (123, 'samba'), (124, 'munna'), (125, 'aneel'), (126, 'nithin'), (127, 'sandeep'), (128, 'aneel'), (129, 'samba'), (130, 'sandeep'), (131, 'aneel'), (132, 'munna'), (133, 'nithin'), (134, 'samba'), (135, 'samba'), (136, 'sandeep'), (137, 'nithin'), (138, 'nithin'), (139, 'aneel'), (140, 'nithin'), (141, 'sandeep'), (142, 'aneel'), (143, 'munna'), (144, 'nithin'), (145, 'nithin'), (146, 'nithin'), (147, 'nithin'), (148, 'munna'), (149, 'samba'), (150, 'sandeep'), (151, 'sandeep'), (152, 'nithin'), (153, 'munna'), (154, 'nithin'), (155, 'aneel'), (156, 'samba'), (157, 'samba'), (158, 'nithin'), (159, 'nithin'), (160, 'nithin'), (161, 'munna'), (162, 'aneel'), (163, 'sandeep'), (164, 'munna'), (165, 'nithin'), (166, 'samba'), (167, 'munna'), (168, 'munna'), (169, 'munna'), (170, 'samba'), (171, 'nithin'), (172, 'munna'), (173, 'nithin'), (174, 'samba'), (175, 'munna'), (176, 'sandeep'), (177, 'munna'), (178, 'samba'), (179, 'nithin'), (180, 'nithin'), (181, 'aneel'), (182, 'aneel'), (183, 'nithin'), (184, 'sandeep'), (185, 'aneel'), (186, 'aneel'), (187, 'aneel'), (188, 'sandeep'), (189, 'samba'), (190, 'munna'), (191, 'munna'), (192, 'aneel'), (193, 'nithin'), (194, 'aneel'), (195, 'aneel'), (196, 'nithin'), (197, 'nithin'), (198, 'sandeep'), (199, 'samba'), (200, 'nithin'), (201, 'aneel'), (202, 'sandeep'), (203, 'samba'), (204, 'samba'), (205, 'sandeep'), (206, 'nithin'), (207, 'aneel'), (208, 'munna'), (209, 'samba'), (210, 'aneel'), (211, 'sandeep'), (212, 'aneel'), (213, 'sandeep'), (214, 'munna'), (215, 'sandeep'), (216, 'nithin'), (217, 'sandeep'), (218, 'samba'), (219, 'aneel'), (220, 'nithin'), (221, 'sandeep'), (222, 'aneel'), (223, 'nithin'), (224, 'munna'), (225, 'nithin'), (226, 'aneel'), (227, 'samba'), (228, 'munna'), (229, 'munna'), (230, 'sandeep'), (231, 'nithin'), (232, 'nithin'), (233, 'sandeep'), (234, 'aneel'), (235, 'samba'), (236, 'munna'), (237, 'aneel'), (238, 'sandeep'), (239, 'samba'), (240, 'sandeep'), (241, 'sandeep'), (242, 'munna'), (243, 'samba'), (244, 'munna'), (245, 'aneel'), (246, 'samba'), (247, 'sandeep'), (248, 'aneel'), (249, 'sandeep'), (250, 'aneel'), (251, 'munna'), (252, 'munna'), (253, 'samba'), (254, 'nithin'), (255, 'munna'), (256, 'sandeep'), (257, 'nithin'), (258, 'munna'), (259, 'sandeep'), (260, 'aneel'), (261, 'sandeep'), (262, 'munna'), (263, 'aneel'), (264, 'nithin'), (265, 'nithin'), (266, 'aneel'), (267, 'sandeep'), (268, 'sandeep'), (269, 'aneel'), (270, 'samba'), (271, 'munna'), (272, 'munna'), (273, 'nithin'), (274, 'nithin'), (275, 'sandeep'), (276, 'aneel'), (277, 'nithin'), (278, 'samba'), (279, 'aneel'), (280, 'sandeep'), (281, 'munna'), (282, 'aneel'), (283, 'nithin'), (284, 'sandeep'), (285, 'samba'), (286, 'munna'), (287, 'munna'), (288, 'munna'), (289, 'nithin'), (290, 'nithin'), (291, 'samba'), (292, 'munna'), (293, 'samba'), (294, 'samba'), (295, 'aneel'), (296, 'sandeep'), (297, 'nithin'), (298, 'munna'), (299, 'munna'), (300, 'aneel'), (301, 'sandeep'), (302, 'aneel'), (303, 'sandeep'), (304, 'sandeep'), (305, 'munna'), (306, 'nithin'), (307, 'nithin'), (308, 'samba'), (309, 'munna'), (310, 'nithin'), (311, 'sandeep'), (312, 'aneel'), (313, 'samba'), (314, 'nithin'), (315, 'samba'), (316, 'munna'), (317, 'samba'), (318, 'samba'), (319, 'samba'), (320, 'samba'), (321, 'aneel'), (322, 'sandeep'), (323, 'aneel'), (324, 'nithin'), (325, 'aneel'), (326, 'samba'), (327, 'munna'), (328, 'samba'), (329, 'munna'), (330, 'munna'), (331, 'samba'), (332, 'aneel'), (333, 'munna'), (334, 'munna'), (335, 'aneel'), (336, 'samba'), (337, 'nithin'), (338, 'samba'), (339, 'nithin'), (340, 'samba'), (341, 'munna'), (342, 'munna'), (343, 'sandeep'), (344, 'sandeep'), (345, 'samba'), (346, 'samba'), (347, 'samba'), (348, 'sandeep'), (349, 'samba'), (350, 'aneel'), (351, 'aneel'), (352, 'nithin'), (353, 'samba'), (354, 'aneel'), (355, 'samba'), (356, 'samba'), (357, 'munna'), (358, 'samba'), (359, 'aneel'), (360, 'samba'), (361, 'aneel'), (362, 'munna'), (363, 'aneel'), (364, 'samba'), (365, 'munna'), (366, 'nithin'), (367, 'nithin'), (368, 'samba'), (369, 'aneel'), (370, 'nithin'), (371, 'samba'), (372, 'samba'), (373, 'sandeep'), (374, 'sandeep'), (375, 'aneel'), (376, 'samba'), (377, 'munna'), (378, 'munna'), (379, 'munna'), (380, 'samba'), (381, 'munna'), (382, 'aneel'), (383, 'samba'), (384, 'samba'), (385, 'nithin'), (386, 'samba'), (387, 'samba'), (388, 'aneel'), (389, 'munna'), (390, 'sandeep'), (391, 'aneel'), (392, 'aneel'), (393, 'sandeep'), (394, 'nithin'), (395, 'aneel'), (396, 'sandeep'), (397, 'aneel'), (398, 'nithin'), (399, 'sandeep'), (400, 'sandeep'), (401, 'aneel'), (402, 'samba'), (403, 'nithin'), (404, 'samba'), (405, 'sandeep'), (406, 'munna'), (407, 'aneel'), (408, 'nithin'), (409, 'sandeep'), (410, 'nithin'), (411, 'sandeep'), (412, 'aneel'), (413, 'munna'), (414, 'samba'), (415, 'sandeep'), (416, 'samba'), (417, 'munna'), (418, 'aneel'), (419, 'aneel'), (420, 'munna'), (421, 'nithin'), (422, 'samba'), (423, 'sandeep'), (424, 'samba'), (425, 'aneel'), (426, 'sandeep'), (427, 'nithin'), (428, 'munna'), (429, 'aneel'), (430, 'nithin'), (431, 'sandeep'), (432, 'sandeep'), (433, 'samba'), (434, 'munna'), (435, 'aneel'), (436, 'aneel'), (437, 'munna'), (438, 'aneel'), (439, 'samba'), (440, 'aneel'), (441, 'aneel'), (442, 'samba'), (443, 'aneel'), (444, 'aneel'), (445, 'aneel'), (446, 'sandeep'), (447, 'sandeep'), (448, 'sandeep'), (449, 'nithin'), (450, 'sandeep'), (451, 'nithin'), (452, 'samba'), (453, 'sandeep'), (454, 'nithin'), (455, 'nithin'), (456, 'nithin'), (457, 'aneel'), (458, 'samba'), (459, 'aneel'), (460, 'nithin'), (461, 'munna'), (462, 'nithin'), (463, 'nithin'), (464, 'samba'), (465, 'aneel'), (466, 'samba'), (467, 'nithin'), (468, 'munna'), (469, 'munna'), (470, 'munna'), (471, 'nithin'), (472, 'aneel'), (473, 'aneel'), (474, 'munna'), (475, 'sandeep'), (476, 'munna'), (477, 'nithin'), (478, 'sandeep'), (479, 'nithin'), (480, 'samba'), (481, 'aneel'), (482, 'sandeep'), (483, 'nithin'), (484, 'munna'), (485, 'munna'), (486, 'aneel'), (487, 'aneel'), (488, 'samba'), (489, 'sandeep'), (490, 'nithin'), (491, 'munna'), (492, 'nithin'), (493, 'munna'), (494, 'nithin'), (495, 'nithin'), (496, 'nithin'), (497, 'sandeep'), (498, 'sandeep'), (499, 'munna'), (500, 'nithin'), (501, 'aneel'), (502, 'samba'), (503, 'aneel'), (504, 'sandeep'), (505, 'aneel'), (506, 'aneel'), (507, 'samba'), (508, 'sandeep'), (509, 'munna'), (510, 'sandeep'), (511, 'sandeep'), (512, 'sandeep'), (513, 'munna'), (514, 'samba'), (515, 'sandeep'), (516, 'samba'), (517, 'aneel'), (518, 'munna'), (519, 'munna'), (520, 'nithin'), (521, 'samba'), (522, 'samba'), (523, 'munna'), (524, 'aneel'), (525, 'sandeep'), (526, 'sandeep'), (527, 'nithin'), (528, 'aneel'), (529, 'munna'), (530, 'munna'), (531, 'aneel'), (532, 'sandeep'), (533, 'aneel'), (534, 'munna'), (535, 'samba'), (536, 'nithin'), (537, 'munna'), (538, 'aneel'), (539, 'sandeep'), (540, 'munna'), (541, 'sandeep'), (542, 'nithin'), (543, 'aneel'), (544, 'munna'), (545, 'munna'), (546, 'sandeep'), (547, 'samba'), (548, 'samba'), (549, 'samba'), (550, 'aneel'), (551, 'munna'), (552, 'nithin'), (553, 'munna'), (554, 'sandeep'), (555, 'samba'), (556, 'munna'), (557, 'sandeep'), (558, 'samba'), (559, 'sandeep'), (560, 'munna'), (561, 'nithin'), (562, 'sandeep'), (563, 'samba'), (564, 'munna'), (565, 'samba'), (566, 'aneel'), (567, 'sandeep'), (568, 'nithin'), (569, 'samba'), (570, 'aneel'), (571, 'munna'), (572, 'munna'), (573, 'munna'), (574, 'munna'), (575, 'nithin'), (576, 'samba'), (577, 'sandeep'), (578, 'nithin'), (579, 'munna'), (580, 'sandeep'), (581, 'munna'), (582, 'samba'), (583, 'nithin'), (584, 'samba'), (585, 'nithin'), (586, 'nithin'), (587, 'samba'), (588, 'samba'), (589, 'samba'), (590, 'sandeep'), (591, 'samba'), (592, 'samba'), (593, 'munna'), (594, 'aneel'), (595, 'sandeep'), (596, 'munna'), (597, 'samba'), (598, 'sandeep'), (599, 'sandeep'), (600, 'sandeep'), (601, 'samba'), (602, 'samba'), (603, 'sandeep'), (604, 'munna'), (605, 'munna'), (606, 'munna'), (607, 'nithin'), (608, 'sandeep'), (609, 'sandeep'), (610, 'samba'), (611, 'munna'), (612, 'nithin'), (613, 'munna'), (614, 'aneel'), (615, 'sandeep'), (616, 'aneel'), (617, 'sandeep'), (618, 'munna'), (619, 'nithin'), (620, 'munna'), (621, 'aneel'), (622, 'aneel'), (623, 'sandeep'), (624, 'munna'), (625, 'munna'), (626, 'munna'), (627, 'sandeep'), (628, 'aneel'), (629, 'aneel'), (630, 'aneel'), (631, 'samba'), (632, 'sandeep'), (633, 'nithin'), (634, 'munna'), (635, 'nithin'), (636, 'nithin'), (637, 'nithin'), (638, 'munna'), (639, 'munna'), (640, 'munna'), (641, 'aneel'), (642, 'aneel'), (643, 'aneel'), (644, 'aneel'), (645, 'munna'), (646, 'aneel'), (647, 'samba'), (648, 'aneel'), (649, 'aneel'), (650, 'aneel'), (651, 'samba'), (652, 'munna'), (653, 'aneel'), (654, 'aneel'), (655, 'munna'), (656, 'aneel'), (657, 'munna'), (658, 'samba'), (659, 'nithin'), (660, 'munna'), (661, 'aneel'), (662, 'sandeep'), (663, 'samba'), (664, 'munna'), (665, 'aneel'), (666, 'sandeep'), (667, 'samba'), (668, 'sandeep'), (669, 'sandeep'), (670, 'samba'), (671, 'sandeep'), (672, 'sandeep'), (673, 'aneel'), (674, 'munna'), (675, 'sandeep'), (676, 'nithin'), (677, 'nithin'), (678, 'sandeep'), (679, 'samba'), (680, 'samba'), (681, 'sandeep'), (682, 'aneel'), (683, 'aneel'), (684, 'nithin'), (685, 'sandeep'), (686, 'munna'), (687, 'munna'), (688, 'sandeep'), (689, 'munna'), (690, 'aneel'), (691, 'nithin'), (692, 'nithin'), (693, 'sandeep'), (694, 'aneel'), (695, 'samba'), (696, 'munna'), (697, 'munna'), (698, 'munna'), (699, 'sandeep'), (700, 'sandeep'), (701, 'sandeep'), (702, 'nithin'), (703, 'nithin'), (704, 'sandeep'), (705, 'munna'), (706, 'sandeep'), (707, 'samba'), (708, 'aneel'), (709, 'sandeep'), (710, 'munna'), (711, 'nithin'), (712, 'sandeep'), (713, 'aneel'), (714, 'nithin'), (715, 'sandeep'), (716, 'munna'), (717, 'aneel'), (718, 'nithin'), (719, 'munna'), (720, 'samba'), (721, 'nithin'), (722, 'aneel'), (723, 'nithin'), (724, 'samba'), (725, 'sandeep'), (726, 'nithin'), (727, 'nithin'), (728, 'aneel'), (729, 'samba'), (730, 'nithin'), (731, 'aneel'), (732, 'samba'), (733, 'samba'), (734, 'nithin'), (735, 'samba'), (736, 'sandeep'), (737, 'sandeep'), (738, 'samba'), (739, 'sandeep'), (740, 'samba'), (741, 'munna'), (742, 'samba'), (743, 'samba'), (744, 'sandeep'), (745, 'sandeep'), (746, 'nithin'), (747, 'aneel'), (748, 'nithin'), (749, 'aneel'), (750, 'munna'), (751, 'samba'), (752, 'nithin'), (753, 'sandeep'), (754, 'munna'), (755, 'sandeep'), (756, 'sandeep'), (757, 'munna'), (758, 'nithin'), (759, 'nithin'), (760, 'nithin'), (761, 'munna'), (762, 'nithin'), (763, 'munna'), (764, 'nithin'), (765, 'munna'), (766, 'sandeep'), (767, 'nithin'), (768, 'samba'), (769, 'samba'), (770, 'munna'), (771, 'samba'), (772, 'munna'), (773, 'nithin'), (774, 'nithin'), (775, 'samba'), (776, 'sandeep'), (777, 'sandeep'), (778, 'munna'), (779, 'samba'), (780, 'samba'), (781, 'samba'), (782, 'munna'), (783, 'sandeep'), (784, 'aneel'), (785, 'aneel'), (786, 'nithin'), (787, 'aneel'), (788, 'nithin'), (789, 'samba'), (790, 'aneel'), (791, 'munna'), (792, 'aneel'), (793, 'samba'), (794, 'aneel'), (795, 'samba'), (796, 'nithin'), (797, 'sandeep'), (798, 'munna'), (799, 'aneel'), (800, 'samba'), (801, 'munna'), (802, 'munna'), (803, 'munna'), (804, 'aneel'), (805, 'samba'), (806, 'nithin'), (807, 'samba'), (808, 'nithin'), (809, 'aneel'), (810, 'samba'), (811, 'aneel'), (812, 'aneel'), (813, 'samba'), (814, 'munna'), (815, 'aneel'), (816, 'nithin'), (817, 'aneel'), (818, 'aneel'), (819, 'sandeep'), (820, 'munna'), (821, 'sandeep'), (822, 'samba'), (823, 'sandeep'), (824, 'samba'), (825, 'aneel'), (826, 'munna'), (827, 'aneel'), (828, 'samba'), (829, 'munna'), (830, 'munna'), (831, 'nithin'), (832, 'samba'), (833, 'munna'), (834, 'sandeep'), (835, 'munna'), (836, 'sandeep'), (837, 'nithin'), (838, 'aneel'), (839, 'aneel'), (840, 'samba'), (841, 'samba'), (842, 'samba'), (843, 'samba'), (844, 'munna'), (845, 'aneel'), (846, 'munna'), (847, 'nithin'), (848, 'aneel'), (849, 'nithin'), (850, 'samba'), (851, 'aneel'), (852, 'munna'), (853, 'sandeep'), (854, 'nithin'), (855, 'aneel'), (856, 'samba'), (857, 'munna'), (858, 'nithin'), (859, 'nithin'), (860, 'munna'), (861, 'sandeep'), (862, 'samba'), (863, 'munna'), (864, 'aneel'), (865, 'nithin'), (866, 'nithin'), (867, 'nithin'), (868, 'sandeep'), (869, 'munna'), (870, 'sandeep'), (871, 'samba'), (872, 'munna'), (873, 'samba'), (874, 'samba'), (875, 'nithin'), (876, 'aneel'), (877, 'aneel'), (878, 'sandeep'), (879, 'samba'), (880, 'samba'), (881, 'samba'), (882, 'aneel'), (883, 'sandeep'), (884, 'aneel'), (885, 'sandeep'), (886, 'nithin'), (887, 'aneel'), (888, 'munna'), (889, 'nithin'), (890, 'nithin'), (891, 'sandeep'), (892, 'sandeep'), (893, 'nithin'), (894, 'sandeep'), (895, 'aneel'), (896, 'aneel'), (897, 'sandeep'), (898, 'sandeep'), (899, 'samba'), (900, 'samba'), (901, 'aneel'), (902, 'aneel'), (903, 'munna'), (904, 'nithin'), (905, 'munna'), (906, 'aneel'), (907, 'munna'), (908, 'samba'), (909, 'munna'), (910, 'samba'), (911, 'munna'), (912, 'nithin'), (913, 'samba'), (914, 'nithin'), (915, 'aneel'), (916, 'aneel'), (917, 'munna'), (918, 'nithin'), (919, 'samba'), (920, 'aneel'), (921, 'aneel'), (922, 'munna'), (923, 'sandeep'), (924, 'samba'), (925, 'munna'), (926, 'nithin'), (927, 'nithin'), (928, 'aneel'), (929, 'munna'), (930, 'aneel'), (931, 'munna'), (932, 'sandeep'), (933, 'munna'), (934, 'nithin'), (935, 'aneel'), (936, 'sandeep'), (937, 'aneel'), (938, 'samba'), (939, 'nithin'), (940, 'nithin'), (941, 'munna'), (942, 'samba'), (943, 'munna'), (944, 'nithin'), (945, 'samba'), (946, 'aneel'), (947, 'samba'), (948, 'sandeep'), (949, 'munna'), (950, 'aneel'), (951, 'munna'), (952, 'munna'), (953, 'aneel'), (954, 'samba'), (955, 'samba'), (956, 'aneel'), (957, 'samba'), (958, 'samba'), (959, 'munna'), (960, 'samba'), (961, 'sandeep'), (962, 'nithin'), (963, 'aneel'), (964, 'nithin'), (965, 'samba'), (966, 'samba'), (967, 'sandeep'), (968, 'munna'), (969, 'munna'), (970, 'samba'), (971, 'nithin'), (972, 'nithin'), (973, 'aneel'), (974, 'sandeep'), (975, 'sandeep'), (976, 'munna'), (977, 'samba'), (978, 'samba'), (979, 'aneel'), (980, 'nithin'), (981, 'nithin'), (982, 'samba'), (983, 'munna'), (984, 'sandeep'), (985, 'munna'), (986, 'nithin'), (987, 'munna'), (988, 'nithin'), (989, 'munna'), (990, 'munna'), (991, 'samba'), (992, 'samba'), (993, 'aneel'), (994, 'sandeep'), (995, 'aneel'), (996, 'samba'), (997, 'samba'), (998, 'aneel'), (999, 'nithin')]\n"
     ]
    }
   ],
   "source": [
    "data = cur.fetchall()\n",
    "print(data)"
   ]
  },
  {
   "cell_type": "code",
   "execution_count": 24,
   "metadata": {},
   "outputs": [
    {
     "name": "stdout",
     "output_type": "stream",
     "text": [
      "[('munna', 210), ('samba', 207), ('aneel', 198), ('nithin', 196), ('sandeep', 186), ('Jay', 1), ('ram', 1)]\n"
     ]
    }
   ],
   "source": [
    "q = \"select name, count(*) as c from customer group by name order by c desc\"\n",
    "cur.execute(q)\n",
    "data =cur.fetchall()\n",
    "print(data)"
   ]
  },
  {
   "cell_type": "code",
   "execution_count": 25,
   "metadata": {},
   "outputs": [
    {
     "name": "stdout",
     "output_type": "stream",
     "text": [
      "('ram', 1)\n"
     ]
    }
   ],
   "source": [
    "print(data[-1])"
   ]
  },
  {
   "cell_type": "code",
   "execution_count": 26,
   "metadata": {},
   "outputs": [],
   "source": [
    "q =\"update customer set name ='INDU' where id=5\"\n",
    "cur.execute(q)\n",
    "con.commit()"
   ]
  },
  {
   "cell_type": "code",
   "execution_count": 27,
   "metadata": {},
   "outputs": [],
   "source": [
    "q =\"delete from customer where id=6\"\n",
    "cur.execute(q)\n",
    "con.commit()"
   ]
  },
  {
   "cell_type": "code",
   "execution_count": null,
   "metadata": {},
   "outputs": [],
   "source": []
  },
  {
   "cell_type": "code",
   "execution_count": null,
   "metadata": {},
   "outputs": [],
   "source": []
  },
  {
   "cell_type": "code",
   "execution_count": null,
   "metadata": {},
   "outputs": [],
   "source": []
  },
  {
   "cell_type": "code",
   "execution_count": null,
   "metadata": {},
   "outputs": [],
   "source": []
  },
  {
   "cell_type": "code",
   "execution_count": null,
   "metadata": {},
   "outputs": [],
   "source": []
  },
  {
   "cell_type": "code",
   "execution_count": null,
   "metadata": {},
   "outputs": [],
   "source": []
  },
  {
   "cell_type": "code",
   "execution_count": null,
   "metadata": {},
   "outputs": [],
   "source": []
  },
  {
   "cell_type": "code",
   "execution_count": null,
   "metadata": {},
   "outputs": [],
   "source": []
  },
  {
   "cell_type": "code",
   "execution_count": null,
   "metadata": {},
   "outputs": [],
   "source": []
  }
 ],
 "metadata": {
  "kernelspec": {
   "display_name": "Python 3",
   "language": "python",
   "name": "python3"
  },
  "language_info": {
   "codemirror_mode": {
    "name": "ipython",
    "version": 3
   },
   "file_extension": ".py",
   "mimetype": "text/x-python",
   "name": "python",
   "nbconvert_exporter": "python",
   "pygments_lexer": "ipython3",
   "version": "3.6.4"
  }
 },
 "nbformat": 4,
 "nbformat_minor": 2
}
