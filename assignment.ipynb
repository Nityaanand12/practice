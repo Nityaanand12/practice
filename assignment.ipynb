{
 "cells": [
  {
   "cell_type": "code",
   "execution_count": 1,
   "metadata": {},
   "outputs": [
    {
     "name": "stdout",
     "output_type": "stream",
     "text": [
      "enter no of people5\n",
      "No of seats in a bus25\n",
      "one bus is required\n"
     ]
    }
   ],
   "source": [
    "a =int(input(\"enter no of people\"))\n",
    "b =int(input(\"No of seats in a bus\"))\n",
    "if b>=a:\n",
    "    print(\"one bus is required\")\n",
    "else:\n",
    "    print(\"More than one bus is required\")    "
   ]
  },
  {
   "cell_type": "code",
   "execution_count": 5,
   "metadata": {},
   "outputs": [
    {
     "name": "stdout",
     "output_type": "stream",
     "text": [
      "please enter temperature75\n",
      "celsis temp is  23.88888888888889\n"
     ]
    }
   ],
   "source": [
    "temp = int(input(\"please enter fahrenheit temperature\"))\n",
    "c = (temp - 32)*5/9\n",
    "print('celsis temp is ',c)"
   ]
  },
  {
   "cell_type": "code",
   "execution_count": 6,
   "metadata": {},
   "outputs": [
    {
     "name": "stdout",
     "output_type": "stream",
     "text": [
      "please enter celsis temperature65\n",
      "fahrenheit temp is 149.0\n"
     ]
    }
   ],
   "source": [
    "temp = int(input(\"please enter celsis temperature\"))\n",
    "F = temp*9/5 + 32\n",
    "print('fahrenheit temp is',F)"
   ]
  },
  {
   "cell_type": "code",
   "execution_count": 11,
   "metadata": {},
   "outputs": [
    {
     "name": "stdout",
     "output_type": "stream",
     "text": [
      "please enter nameRavi\n",
      "please enter age22\n",
      "please enter your height6.0\n",
      "The details of the person: Name: Ravi , Age: 22 , Height: 6.0\n"
     ]
    }
   ],
   "source": [
    "name = input(\"please enter name\")\n",
    "age = int(input(\"please enter age\"))\n",
    "height = input(\"please enter your height\")\n",
    "print(\"The details of the person: Name:\",name,','\" Age:\",age,','\" Height:\",height)"
   ]
  },
  {
   "cell_type": "code",
   "execution_count": 19,
   "metadata": {},
   "outputs": [
    {
     "name": "stdout",
     "output_type": "stream",
     "text": [
      "please enter value10\n",
      "please enter value20\n",
      "please enter value30\n",
      "please enter value40\n",
      "900 343000\n",
      "variance is: 725.0\n",
      "std deviation is 26.92582403567252\n",
      "y is 123.045\n",
      "sum of 4 nos  100\n",
      "average of 4 nos  25.0\n"
     ]
    }
   ],
   "source": [
    "import math\n",
    "a = int(input(\"please enter value\"))\n",
    "b = int(input(\"please enter value\"))\n",
    "c = int(input(\"please enter value\"))\n",
    "d = int(input(\"please enter value\"))\n",
    "value = (a+b)**2\n",
    "value1 = (c+d)**3\n",
    "print(value,value1)\n",
    "print(\"variance is:\",((a**2+b**2+c**2+d**2)/4)-(a+b+c+d)/4)\n",
    "print(\"std deviation is\",math.sqrt(((a**2+b**2+c**2+d**2)/4)-(a+b+c+d)/4))\n",
    "m = 1.23\n",
    "z = 0.045\n",
    "print(\"y is\",m*(a+b+c+d)+z)\n",
    "print(\"sum of 4 nos \", a+b+c+d)\n",
    "print(\"average of 4 nos \",(a+b+c+d)/4)"
   ]
  },
  {
   "cell_type": "code",
   "execution_count": 15,
   "metadata": {},
   "outputs": [
    {
     "name": "stdout",
     "output_type": "stream",
     "text": [
      "Please enter the distance in KM20\n",
      "Distance in centimeters:  2000000.0\n",
      "Distance in meters:  20000.0\n",
      "Distance in millimeters:  20000000.0\n",
      "Distance in feets:  65616.8\n",
      "Distance in cents:  494210.76293434005\n"
     ]
    }
   ],
   "source": [
    "DISTANCE_IN_KM = float(input(\"Please enter the distance in KM\"))\n",
    "print(\"Distance in centimeters: \",DISTANCE_IN_KM*pow(10,5))\n",
    "print(\"Distance in meters: \",DISTANCE_IN_KM*pow(10,3))\n",
    "print(\"Distance in millimeters: \",DISTANCE_IN_KM*pow(10,6))\n",
    "print(\"Distance in feets: \",DISTANCE_IN_KM*3280.84)\n",
    "print(\"Distance in cents: \",DISTANCE_IN_KM*24710.538146717)"
   ]
  },
  {
   "cell_type": "code",
   "execution_count": null,
   "metadata": {},
   "outputs": [],
   "source": []
  },
  {
   "cell_type": "code",
   "execution_count": 16,
   "metadata": {},
   "outputs": [
    {
     "name": "stdout",
     "output_type": "stream",
     "text": [
      "please enter size of harddisk2\n",
      "Size in MB 2048.0\n",
      "Size in KB 2097152.0\n",
      "Size in TB 0.001953125\n",
      "Size in MB 1.9073486328125e-06\n"
     ]
    }
   ],
   "source": [
    "SIZE_IN_GB = float(input(\"please enter size of harddisk\"))\n",
    "print(\"Size in MB\",SIZE_IN_GB*1024)\n",
    "print(\"Size in KB\",SIZE_IN_GB*1024*1024)\n",
    "print(\"Size in TB\",SIZE_IN_GB/1024)\n",
    "print(\"Size in PB\",SIZE_IN_GB/(1024*1024))"
   ]
  },
  {
   "cell_type": "code",
   "execution_count": 2,
   "metadata": {},
   "outputs": [
    {
     "name": "stdout",
     "output_type": "stream",
     "text": [
      "please enter your weight in kg 85\n",
      "please height in centimeters 173\n",
      "BMI is:  28.40054796351365\n"
     ]
    }
   ],
   "source": [
    "weight = float(input(\"please enter your weight in kg \"))\n",
    "height = float(input(\"please height in centimeters \"))\n",
    "BMI = weight/(height*height*pow(10,-4))\n",
    "print('BMI is: ',BMI)"
   ]
  },
  {
   "cell_type": "code",
   "execution_count": 5,
   "metadata": {},
   "outputs": [
    {
     "name": "stdout",
     "output_type": "stream",
     "text": [
      "Name:Jayaram,Age:1.60,Height:3.54,Weight:10.34\n"
     ]
    }
   ],
   "source": [
    "name=\"Jayaram\"\n",
    "age=1.6\n",
    "height=3.5356234\n",
    "weight=10.343856783\n",
    "print(\"Name:%s,Age:%.2f,Height:%.2f,Weight:%.2f\"%(name,age,height,weight))"
   ]
  },
  {
   "cell_type": "code",
   "execution_count": 6,
   "metadata": {},
   "outputs": [
    {
     "name": "stdout",
     "output_type": "stream",
     "text": [
      "please enter wordABCD\n",
      "abcd\n"
     ]
    }
   ],
   "source": [
    "string = input(\"please enter word\")\n",
    "print(string.lower())"
   ]
  },
  {
   "cell_type": "code",
   "execution_count": 10,
   "metadata": {
    "scrolled": true
   },
   "outputs": [
    {
     "name": "stdout",
     "output_type": "stream",
     "text": [
      "8\n"
     ]
    }
   ],
   "source": [
    "x=2\n",
    "y=3\n",
    "print(pow(x,y))"
   ]
  },
  {
   "cell_type": "code",
   "execution_count": 14,
   "metadata": {
    "scrolled": true
   },
   "outputs": [
    {
     "name": "stdout",
     "output_type": "stream",
     "text": [
      "Total bill is:  162\n",
      "average is:  135.33333333333334\n",
      "min is:  24\n",
      "max is:  98\n"
     ]
    }
   ],
   "source": [
    "oil = 98\n",
    "sugar = 24\n",
    "soap = 40\n",
    "print('Total cost is: ',oil+sugar+soap)\n",
    "print('average cost is: ',oil+sugar+soap/3)\n",
    "print('min cost is: ',min(oil,sugar,soap))\n",
    "print('max cost is: ',max(oil,sugar,soap))"
   ]
  },
  {
   "cell_type": "code",
   "execution_count": null,
   "metadata": {},
   "outputs": [],
   "source": []
  },
  {
   "cell_type": "code",
   "execution_count": null,
   "metadata": {},
   "outputs": [],
   "source": []
  }
 ],
 "metadata": {
  "kernelspec": {
   "display_name": "Python 3",
   "language": "python",
   "name": "python3"
  },
  "language_info": {
   "codemirror_mode": {
    "name": "ipython",
    "version": 3
   },
   "file_extension": ".py",
   "mimetype": "text/x-python",
   "name": "python",
   "nbconvert_exporter": "python",
   "pygments_lexer": "ipython3",
   "version": "3.6.4"
  }
 },
 "nbformat": 4,
 "nbformat_minor": 2
}
