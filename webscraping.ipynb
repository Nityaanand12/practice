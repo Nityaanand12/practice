{
 "cells": [
  {
   "cell_type": "code",
   "execution_count": 13,
   "metadata": {},
   "outputs": [],
   "source": [
    "import re\n",
    "import urllib.request"
   ]
  },
  {
   "cell_type": "code",
   "execution_count": 7,
   "metadata": {},
   "outputs": [
    {
     "name": "stdout",
     "output_type": "stream",
     "text": [
      "Searching for .... http://google.com\n",
      "<http.client.HTTPResponse object at 0x106056eb8>\n",
      "['<title>Google</title>']\n",
      "Searching for .... http://rediff.com\n",
      "<http.client.HTTPResponse object at 0x106056c50>\n",
      "['<title>Rediff.com: News | Rediffmail | Stock Quotes | Shopping</title>']\n"
     ]
    }
   ],
   "source": [
    "sites=[\"http://google.com\",\"http://rediff.com\"]\n",
    "for site in sites:\n",
    "    print(\"Searching for ....\",site)\n",
    "    u = urllib.request.urlopen(site)\n",
    "    print(u)\n",
    "    text = u.read()\n",
    "    title = re.findall(\"<title>.*</title>\",str(text),re.I)\n",
    "    print(title)"
   ]
  },
  {
   "cell_type": "code",
   "execution_count": 28,
   "metadata": {},
   "outputs": [
    {
     "name": "stdout",
     "output_type": "stream",
     "text": [
      "gstindia@zohofinance.com\n",
      "gstindia@zohofinance.com\n",
      "sales@zohocorp.com\n",
      "sales@zohocorp.com\n",
      "press@zohocorp.com\n",
      "press@zohocorp.com\n",
      "aravind@zohocorp.com\n",
      "aravind@zohocorp.com\n",
      "mason@zohocorp.com\n",
      "mason@zohocorp.com\n",
      "pr@zohocorp.com\n",
      "pr@zohocorp.com\n",
      "sales@zohocorp.com\n",
      "sales@zohocorp.com\n",
      "sales@zohocorp.com\n"
     ]
    }
   ],
   "source": [
    "u = urllib.request.urlopen('https://www.zoho.com/contactus.html')\n",
    "text = u.read()\n",
    "#+8610 82637816\n",
    "mailids = re.findall('\\w+[a-zA-z0-9_.]*@[a-zA-z0-9_.]+[.][a-z]*',str(text))\n",
    "for mail in mailids:\n",
    "    print(mail)"
   ]
  },
  {
   "cell_type": "code",
   "execution_count": null,
   "metadata": {},
   "outputs": [],
   "source": []
  }
 ],
 "metadata": {
  "kernelspec": {
   "display_name": "Python 3",
   "language": "python",
   "name": "python3"
  },
  "language_info": {
   "codemirror_mode": {
    "name": "ipython",
    "version": 3
   },
   "file_extension": ".py",
   "mimetype": "text/x-python",
   "name": "python",
   "nbconvert_exporter": "python",
   "pygments_lexer": "ipython3",
   "version": "3.6.4"
  }
 },
 "nbformat": 4,
 "nbformat_minor": 2
}
