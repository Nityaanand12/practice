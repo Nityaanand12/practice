{
 "cells": [
  {
   "cell_type": "code",
   "execution_count": 40,
   "metadata": {},
   "outputs": [],
   "source": [
    "import random\n",
    "name = ['Anand','Ravi','Kiran','Unknown']\n",
    "loc = ['hyd','vizag','mumbai','bangalore','chennai']\n",
    "deg =['ASE','SE','ITA','CONSULTANT']\n",
    "skills = ['python,perl,cpp','Java,js,reactjs','Angularjs,html5,css3','.net,sap,unix']\n",
    "fp = open(\"data1.csv\",'w')\n",
    "fp.write(\"Id;Name;Age;Salary;Location;Skillset;Deg\")\n",
    "for i in range(50):\n",
    "    fp.write(\"\\n%d;%s;%d;%d;%s;%s;%s\" %(i,random.choice(name),random.randint(20,30),random.randint(35000,100000),random.choice(loc),random.choice(skills),random.choice(deg)))\n",
    "fp.close() "
   ]
  },
  {
   "cell_type": "code",
   "execution_count": 41,
   "metadata": {},
   "outputs": [
    {
     "name": "stdout",
     "output_type": "stream",
     "text": [
      "['Unknown', 'Ravi']\n"
     ]
    }
   ],
   "source": [
    "fp = open('data1.csv')\n",
    "content = fp.readlines()\n",
    "emps = [emp.strip('\\n') for emp in content]\n",
    "emps = [emp.split(';') for emp in emps]\n",
    "head = emps.pop(0)\n",
    "emps = [dict(zip(head,emp)) for emp in emps]\n",
    "emp_hyd = [emp['Name'] for emp in emps if emp['Location'] == 'hyd']\n",
    "fp.close()\n",
    "print(emp_hyd[:2])"
   ]
  },
  {
   "cell_type": "code",
   "execution_count": 43,
   "metadata": {
    "scrolled": false
   },
   "outputs": [
    {
     "name": "stdout",
     "output_type": "stream",
     "text": [
      "[{'Id': '30', 'Name': 'Ravi', 'Age': '27', 'Salary': '71030', 'Location': 'hyd', 'Skillset': 'python,perl,cpp', 'Deg': 'ASE'}, {'Id': '39', 'Name': 'Unknown', 'Age': '23', 'Salary': '38163', 'Location': 'mumbai', 'Skillset': 'python,perl,cpp', 'Deg': 'ASE'}, {'Id': '41', 'Name': 'Anand', 'Age': '28', 'Salary': '90757', 'Location': 'mumbai', 'Skillset': 'python,perl,cpp', 'Deg': 'ASE'}, {'Id': '42', 'Name': 'Anand', 'Age': '29', 'Salary': '66490', 'Location': 'mumbai', 'Skillset': 'python,perl,cpp', 'Deg': 'ASE'}, {'Id': '43', 'Name': 'Kiran', 'Age': '25', 'Salary': '91167', 'Location': 'hyd', 'Skillset': 'python,perl,cpp', 'Deg': 'ASE'}, {'Id': '3', 'Name': 'Unknown', 'Age': '30', 'Salary': '41893', 'Location': 'hyd', 'Skillset': 'python,perl,cpp', 'Deg': 'SE'}, {'Id': '9', 'Name': 'Anand', 'Age': '21', 'Salary': '78106', 'Location': 'vizag', 'Skillset': 'python,perl,cpp', 'Deg': 'SE'}, {'Id': '14', 'Name': 'Kiran', 'Age': '26', 'Salary': '45499', 'Location': 'mumbai', 'Skillset': 'python,perl,cpp', 'Deg': 'SE'}, {'Id': '23', 'Name': 'Kiran', 'Age': '30', 'Salary': '79677', 'Location': 'bangalore', 'Skillset': 'python,perl,cpp', 'Deg': 'SE'}, {'Id': '10', 'Name': 'Ravi', 'Age': '27', 'Salary': '54252', 'Location': 'vizag', 'Skillset': 'python,perl,cpp', 'Deg': 'ITA'}, {'Id': '19', 'Name': 'Kiran', 'Age': '26', 'Salary': '44129', 'Location': 'mumbai', 'Skillset': 'python,perl,cpp', 'Deg': 'ITA'}, {'Id': '33', 'Name': 'Unknown', 'Age': '20', 'Salary': '72261', 'Location': 'hyd', 'Skillset': 'python,perl,cpp', 'Deg': 'ITA'}, {'Id': '0', 'Name': 'Ravi', 'Age': '24', 'Salary': '57039', 'Location': 'chennai', 'Skillset': 'python,perl,cpp', 'Deg': 'CONSULTANT'}, {'Id': '12', 'Name': 'Kiran', 'Age': '22', 'Salary': '63658', 'Location': 'chennai', 'Skillset': 'python,perl,cpp', 'Deg': 'CONSULTANT'}, {'Id': '17', 'Name': 'Anand', 'Age': '25', 'Salary': '49990', 'Location': 'chennai', 'Skillset': 'python,perl,cpp', 'Deg': 'CONSULTANT'}, {'Id': '38', 'Name': 'Anand', 'Age': '21', 'Salary': '68885', 'Location': 'hyd', 'Skillset': 'python,perl,cpp', 'Deg': 'CONSULTANT'}, {'Id': '48', 'Name': 'Unknown', 'Age': '27', 'Salary': '85882', 'Location': 'chennai', 'Skillset': 'python,perl,cpp', 'Deg': 'CONSULTANT'}]\n"
     ]
    }
   ],
   "source": [
    "import re\n",
    "pattern = re.compile(r'python',re.IGNORECASE)\n",
    "Python_emps = [emp for emp in emps if pattern.search(emp['Skillset'])]\n",
    "#print(Python_emps)\n",
    "order = {'ASE':1,'SE':2,'ITA':3,'CONSULTANT':4}\n",
    "python_emps_sorted = sorted(Python_emps, key=lambda k: order[k['Deg']])\n",
    "print(python_emps_sorted)"
   ]
  },
  {
   "cell_type": "code",
   "execution_count": 66,
   "metadata": {},
   "outputs": [
    {
     "name": "stdout",
     "output_type": "stream",
     "text": [
      "Id\tName\tAge\tSalary\tLocation\tSkillset\tDeg\n"
     ]
    }
   ],
   "source": [
    "ita_emps = [emp for emp in emps if emp['Deg'] == 'ITA']\n",
    "fp = open('output.txt','w')\n",
    "kys = ita_emps[0].keys()\n",
    "print('\\t'.join(kys))\n",
    "for ky in kys:\n",
    "    fp.write(ky+\"\\t\")\n",
    "    fp.flush()\n",
    "fp.write('\\n')\n",
    "for emp in ita_emps:\n",
    "    for ky in kys:\n",
    "        fp.write(emp[ky]+\"\\t\")\n",
    "        fp.flush()\n",
    "    fp.write('\\n')\n",
    "fp.close()"
   ]
  },
  {
   "cell_type": "code",
   "execution_count": null,
   "metadata": {},
   "outputs": [],
   "source": []
  }
 ],
 "metadata": {
  "kernelspec": {
   "display_name": "Python 3",
   "language": "python",
   "name": "python3"
  },
  "language_info": {
   "codemirror_mode": {
    "name": "ipython",
    "version": 3
   },
   "file_extension": ".py",
   "mimetype": "text/x-python",
   "name": "python",
   "nbconvert_exporter": "python",
   "pygments_lexer": "ipython3",
   "version": "3.6.4"
  }
 },
 "nbformat": 4,
 "nbformat_minor": 2
}
